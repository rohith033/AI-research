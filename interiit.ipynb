{
  "nbformat": 4,
  "nbformat_minor": 0,
  "metadata": {
    "colab": {
      "provenance": [],
      "authorship_tag": "ABX9TyOplm8lrami0UgF7wx35DFE",
      "include_colab_link": true
    },
    "kernelspec": {
      "name": "python3",
      "display_name": "Python 3"
    },
    "language_info": {
      "name": "python"
    }
  },
  "cells": [
    {
      "cell_type": "markdown",
      "metadata": {
        "id": "view-in-github",
        "colab_type": "text"
      },
      "source": [
        "<a href=\"https://colab.research.google.com/github/rohith033/AI-research/blob/main/interiit.ipynb\" target=\"_parent\"><img src=\"https://colab.research.google.com/assets/colab-badge.svg\" alt=\"Open In Colab\"/></a>"
      ]
    },
    {
      "cell_type": "markdown",
      "source": [
        "**GAN network for upscalling moon images**<br>\n",
        "The basic idea behind using GANs for image upscaling is to train a generator network to create high-resolution images from low-resolution images, and a discriminator network to distinguish between the generated high-resolution images and real high-resolution images. The generator network is trained to produce images that are similar to real high-resolution images, and the discriminator network is trained to correctly identify the generated images."
      ],
      "metadata": {
        "id": "Jn_bG1xjr3vk"
      }
    },
    {
      "cell_type": "code",
      "execution_count": 6,
      "metadata": {
        "id": "ExHRZqzfF2nc"
      },
      "outputs": [],
      "source": [
        "import os\n",
        "import torch\n",
        "import torch.nn as n\n",
        "import torch.nn.functional as f\n",
        "import numpy as np\n",
        "import os\n",
        "from torchsummary import summary\n",
        "import torch.optim as optim\n",
        "from tqdm import tqdm\n",
        "from torchvision import models\n",
        "import cv2\n",
        "from matplotlib import pyplot as plt\n",
        "from PIL import Image"
      ]
    },
    {
      "cell_type": "markdown",
      "source": [
        "**the network is based on SRGAN which is used for improving resolution of images**"
      ],
      "metadata": {
        "id": "MJx4B_Ja1TTO"
      }
    },
    {
      "cell_type": "markdown",
      "source": [
        "**Generator**<br>\n"
      ],
      "metadata": {
        "id": "aMLjStzYtDU-"
      }
    },
    {
      "cell_type": "code",
      "source": [
        "class Generator(n.Module):\n",
        "    def __init__(self):\n",
        "        super().__init__()\n",
        "        self.conv1 = n.Conv2d(3,64,9,padding=4,bias=False)\n",
        "        self.conv2 = n.Conv2d(64,64,3,padding=1,bias=False)\n",
        "        self.conv3_1 = n.Conv2d(64,256,3,padding=1,bias=False)\n",
        "        self.conv3_2 = n.Conv2d(64,256,3,padding=1,bias=False)\n",
        "        self.conv4 = n.Conv2d(64,3,9,padding=4,bias=False)\n",
        "        self.bn = n.BatchNorm2d(64)\n",
        "        self.ps = n.PixelShuffle(2)\n",
        "        self.prelu = n.PReLU()\n",
        "        \n",
        "    def forward(self,x):\n",
        "        block1 = self.prelu(self.conv1(x))\n",
        "        block2 = torch.add(self.bn(self.conv2(self.prelu(self.bn(self.conv2(block1))))),block1)\n",
        "        block3 = torch.add(self.bn(self.conv2(self.prelu(self.bn(self.conv2(block2))))),block2)\n",
        "        block4 = torch.add(self.bn(self.conv2(self.prelu(self.bn(self.conv2(block3))))),block3)\n",
        "        block5 = torch.add(self.bn(self.conv2(self.prelu(self.bn(self.conv2(block4))))),block4)\n",
        "        block6 = torch.add(self.bn(self.conv2(self.prelu(self.bn(self.conv2(block5))))),block5)\n",
        "        block7 = torch.add(self.bn(self.conv2(block6)),block1)\n",
        "        block8 = self.prelu(self.ps(self.conv3_1(block7)))\n",
        "        block9 = self.prelu(self.ps(self.conv3_2(block8)))\n",
        "        block10 = self.conv4(block9)\n",
        "        return block10"
      ],
      "metadata": {
        "id": "ziEYP0tXtC59"
      },
      "execution_count": 7,
      "outputs": []
    },
    {
      "cell_type": "code",
      "source": [
        "gen = Generator()\n",
        "summary(gen,(3,256,256))"
      ],
      "metadata": {
        "colab": {
          "base_uri": "https://localhost:8080/"
        },
        "id": "GG9bbemd29J2",
        "outputId": "b4673d30-ecec-4ae7-89c7-968a26c35b34"
      },
      "execution_count": 9,
      "outputs": [
        {
          "output_type": "stream",
          "name": "stdout",
          "text": [
            "----------------------------------------------------------------\n",
            "        Layer (type)               Output Shape         Param #\n",
            "================================================================\n",
            "            Conv2d-1         [-1, 64, 256, 256]          15,552\n",
            "             PReLU-2         [-1, 64, 256, 256]               1\n",
            "            Conv2d-3         [-1, 64, 256, 256]          36,864\n",
            "       BatchNorm2d-4         [-1, 64, 256, 256]             128\n",
            "             PReLU-5         [-1, 64, 256, 256]               1\n",
            "            Conv2d-6         [-1, 64, 256, 256]          36,864\n",
            "       BatchNorm2d-7         [-1, 64, 256, 256]             128\n",
            "            Conv2d-8         [-1, 64, 256, 256]          36,864\n",
            "       BatchNorm2d-9         [-1, 64, 256, 256]             128\n",
            "            PReLU-10         [-1, 64, 256, 256]               1\n",
            "           Conv2d-11         [-1, 64, 256, 256]          36,864\n",
            "      BatchNorm2d-12         [-1, 64, 256, 256]             128\n",
            "           Conv2d-13         [-1, 64, 256, 256]          36,864\n",
            "      BatchNorm2d-14         [-1, 64, 256, 256]             128\n",
            "            PReLU-15         [-1, 64, 256, 256]               1\n",
            "           Conv2d-16         [-1, 64, 256, 256]          36,864\n",
            "      BatchNorm2d-17         [-1, 64, 256, 256]             128\n",
            "           Conv2d-18         [-1, 64, 256, 256]          36,864\n",
            "      BatchNorm2d-19         [-1, 64, 256, 256]             128\n",
            "            PReLU-20         [-1, 64, 256, 256]               1\n",
            "           Conv2d-21         [-1, 64, 256, 256]          36,864\n",
            "      BatchNorm2d-22         [-1, 64, 256, 256]             128\n",
            "           Conv2d-23         [-1, 64, 256, 256]          36,864\n",
            "      BatchNorm2d-24         [-1, 64, 256, 256]             128\n",
            "            PReLU-25         [-1, 64, 256, 256]               1\n",
            "           Conv2d-26         [-1, 64, 256, 256]          36,864\n",
            "      BatchNorm2d-27         [-1, 64, 256, 256]             128\n",
            "           Conv2d-28         [-1, 64, 256, 256]          36,864\n",
            "      BatchNorm2d-29         [-1, 64, 256, 256]             128\n",
            "           Conv2d-30        [-1, 256, 256, 256]         147,456\n",
            "     PixelShuffle-31         [-1, 64, 512, 512]               0\n",
            "            PReLU-32         [-1, 64, 512, 512]               1\n",
            "           Conv2d-33        [-1, 256, 512, 512]         147,456\n",
            "     PixelShuffle-34       [-1, 64, 1024, 1024]               0\n",
            "            PReLU-35       [-1, 64, 1024, 1024]               1\n",
            "           Conv2d-36        [-1, 3, 1024, 1024]          15,552\n",
            "================================================================\n",
            "Total params: 732,936\n",
            "Trainable params: 732,936\n",
            "Non-trainable params: 0\n",
            "----------------------------------------------------------------\n",
            "Input size (MB): 0.75\n",
            "Forward/backward pass size (MB): 2872.00\n",
            "Params size (MB): 2.80\n",
            "Estimated Total Size (MB): 2875.55\n",
            "----------------------------------------------------------------\n"
          ]
        }
      ]
    },
    {
      "cell_type": "markdown",
      "source": [
        "**discriminator**"
      ],
      "metadata": {
        "id": "dLY5-UVM1wwJ"
      }
    },
    {
      "cell_type": "code",
      "source": [
        "class Discriminator(n.Module):\n",
        "    def __init__(self):\n",
        "        super().__init__()\n",
        "        self.conv1 = n.Conv2d(3,64,3,padding=1,bias=False)\n",
        "        self.conv2 = n.Conv2d(64,64,3,stride=2,padding=1,bias=False)\n",
        "        self.bn2 = n.BatchNorm2d(64)\n",
        "        self.conv3 = n.Conv2d(64,128,3,padding=1,bias=False)\n",
        "        self.bn3 = n.BatchNorm2d(128)\n",
        "        self.conv4 = n.Conv2d(128,128,3,stride=2,padding=1,bias=False)\n",
        "        self.bn4 = n.BatchNorm2d(128)\n",
        "        self.conv5 = n.Conv2d(128,256,3,padding=1,bias=False)\n",
        "        self.bn5 = n.BatchNorm2d(256)\n",
        "        self.conv6 = n.Conv2d(256,256,3,stride=2,padding=1,bias=False)\n",
        "        self.bn6 = n.BatchNorm2d(256)\n",
        "        self.conv7 = n.Conv2d(256,512,3,padding=1,bias=False)\n",
        "        self.bn7 = n.BatchNorm2d(512)\n",
        "        self.conv8 = n.Conv2d(512,512,3,stride=2,padding=1,bias=False)\n",
        "        self.bn8 = n.BatchNorm2d(512)\n",
        "        self.fc1 = n.Linear(512*16*16,1024)\n",
        "        self.fc2 = n.Linear(1024,1)\n",
        "        self.drop = n.Dropout2d(0.3)\n",
        "        \n",
        "    def forward(self,x):\n",
        "        block1 = f.leaky_relu(self.conv1(x))\n",
        "        block2 = f.leaky_relu(self.bn2(self.conv2(block1)))\n",
        "        block3 = f.leaky_relu(self.bn3(self.conv3(block2)))\n",
        "        block4 = f.leaky_relu(self.bn4(self.conv4(block3)))\n",
        "        block5 = f.leaky_relu(self.bn5(self.conv5(block4)))\n",
        "        block6 = f.leaky_relu(self.bn6(self.conv6(block5)))\n",
        "        block7 = f.leaky_relu(self.bn7(self.conv7(block6)))\n",
        "        block8 = f.leaky_relu(self.bn8(self.conv8(block7)))\n",
        "        block8 = block8.view(-1,block8.size(1)*block8.size(2)*block8.size(3))\n",
        "        block9 = f.leaky_relu(self.fc1(block8),)\n",
        "        block10 = torch.sigmoid(self.drop(self.fc2(block9)))\n",
        "        return block9,block10"
      ],
      "metadata": {
        "id": "JW46fgWn1v9m"
      },
      "execution_count": 8,
      "outputs": []
    },
    {
      "cell_type": "code",
      "source": [],
      "metadata": {
        "id": "DgeZIkqu3cfB"
      },
      "execution_count": null,
      "outputs": []
    },
    {
      "cell_type": "markdown",
      "source": [],
      "metadata": {
        "id": "8yNw9rNX3iuW"
      }
    },
    {
      "cell_type": "code",
      "source": [
        "disc = Discriminator()"
      ],
      "metadata": {
        "id": "3rK8i35O3OyB"
      },
      "execution_count": 10,
      "outputs": []
    },
    {
      "cell_type": "markdown",
      "source": [
        "**Downloading Vgg19**"
      ],
      "metadata": {
        "id": "Un0ZStCd1-y5"
      }
    },
    {
      "cell_type": "code",
      "source": [
        "vgg = models.vgg19(pretrained=True)"
      ],
      "metadata": {
        "id": "EehchijQ1-dd"
      },
      "execution_count": null,
      "outputs": []
    },
    {
      "cell_type": "markdown",
      "source": [
        "**Loss functions**"
      ],
      "metadata": {
        "id": "Za2ojDO42kge"
      }
    },
    {
      "cell_type": "code",
      "source": [
        "gen_loss = n.BCELoss()\n",
        "vgg_loss = n.MSELoss()\n",
        "mse_loss = n.MSELoss()\n",
        "disc_loss = n.BCELoss()"
      ],
      "metadata": {
        "id": "w6KPlO_72jkl"
      },
      "execution_count": null,
      "outputs": []
    },
    {
      "cell_type": "markdown",
      "source": [
        "**Optimizers**"
      ],
      "metadata": {
        "id": "0ab0-uI22q5y"
      }
    },
    {
      "cell_type": "code",
      "source": [
        "gen_optimizer = optim.Adam(gen.parameters(),lr=0.0001)\n",
        "disc_optimizer = optim.Adam(disc.parameters(),lr=0.0001)"
      ],
      "metadata": {
        "id": "0kXopp_l2qcq"
      },
      "execution_count": null,
      "outputs": []
    }
  ]
}