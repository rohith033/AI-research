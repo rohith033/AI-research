{
  "nbformat": 4,
  "nbformat_minor": 0,
  "metadata": {
    "colab": {
      "provenance": [],
      "machine_shape": "hm"
    },
    "kernelspec": {
      "name": "python3",
      "display_name": "Python 3"
    },
    "language_info": {
      "name": "python"
    },
    "accelerator": "TPU",
    "gpuClass": "standard"
  },
  "cells": [
    {
      "cell_type": "code",
      "execution_count": null,
      "metadata": {
        "id": "iUUgGMtCouyO"
      },
      "outputs": [],
      "source": [
        "import numpy as np\n",
        "import cv2\n",
        "from keras.models import Sequential\n",
        "from keras.layers import Conv2D, UpSampling2D, Input\n",
        "\n",
        "def sisr_model():\n",
        "    model = Sequential()\n",
        "    model.add(Conv2D(128, (3,3), activation='relu', padding='same', input_shape=(None, None, 1)))\n",
        "    model.add(UpSampling2D((2,2)))\n",
        "    model.add(Conv2D(64, (3,3), activation='relu', padding='same'))\n",
        "    model.add(UpSampling2D((2,2)))\n",
        "    model.add(Conv2D(1, (3,3), activation='relu', padding='same'))\n",
        "    model.compile(optimizer='adam', loss='mean_squared_error')\n",
        "    return model\n",
        "\n",
        "# load the low-resolution image\n",
        "lr_img = cv2.imread('/content/drive/MyDrive/ch2_tmc_ndn_20220630T1008389740_d_oth_d32.png', cv2.IMREAD_GRAYSCALE)\n",
        "\n",
        "# resize the low-resolution image to desired size\n",
        "hr_shape = (lr_img.shape[0]*4, lr_img.shape[1]*4)\n",
        "hr_img = np.zeros(hr_shape)\n",
        "\n",
        "# create the SISR model\n",
        "model = sisr_model()\n",
        "\n",
        "# predict the high-resolution image\n",
        "lr_img = np.expand_dims(lr_img, axis=-1)\n",
        "hr_img = model.predict(np.expand_dims(lr_img, 0))\n",
        "hr_img = np.squeeze(hr_img)\n",
        "\n",
        "# save the high-resolution image\n",
        "cv2.imwrite('hr_image.jpg', hr_img)"
      ]
    },
    {
      "cell_type": "code",
      "source": [
        "def PSNR(y_true, y_pred):\n",
        "    max_pixel = 1.0\n",
        "    return (10.0 * K.log((max_pixel ** 2) / (K.mean(K.square(y_pred - y_true), axis=-1)))) / 2.303"
      ],
      "metadata": {
        "id": "JqMHqBSzl79g"
      },
      "execution_count": null,
      "outputs": []
    },
    {
      "cell_type": "code",
      "source": [
        "import numpy as np\n",
        "import cv2\n",
        "from keras.models import Sequential\n",
        "from keras.layers import Conv2D, UpSampling2D, Input\n",
        "def sisr_model():\n",
        "    model = Sequential()\n",
        "    model.add(Conv2D(128, (3,3), activation='relu', padding='same', input_shape=(None,None,3)))\n",
        "    model.add(UpSampling2D((2,2)))\n",
        "    model.add(Conv2D(64, (3,3), activation='relu', padding='same'))\n",
        "    model.add(UpSampling2D((2,2)))\n",
        "    model.add(Conv2D(1, (3,3), activation='relu', padding='same'))\n",
        "    model.compile(optimizer='adam',loss='mse')\n",
        "    return model"
      ],
      "metadata": {
        "id": "jxTXtTi3pZjr"
      },
      "execution_count": null,
      "outputs": []
    },
    {
      "cell_type": "code",
      "source": [
        "def combine_chunks(chunks, chunk_size, width, height):\n",
        "    result = np.zeros((height, width, 3), dtype=np.uint8)\n",
        "    for y in range(0, height, chunk_size):\n",
        "        for x in range(0, width, chunk_size):\n",
        "            chunk = chunks.pop(0)\n",
        "            chunk_height, chunk_width, _ = chunk.shape\n",
        "            result[y:y + chunk_height, x:x + chunk_width,:] = chunk           \n",
        "    return result\n"
      ],
      "metadata": {
        "id": "3Oxz-M-fq1Gu"
      },
      "execution_count": null,
      "outputs": []
    },
    {
      "cell_type": "code",
      "source": [
        "lr_img = cv2.imread('/content/drive/MyDrive/ch2_tmc_ndn_20220630T1008389740_d_oth_d32.png')"
      ],
      "metadata": {
        "id": "IvXZangE_v7Q"
      },
      "execution_count": null,
      "outputs": []
    },
    {
      "cell_type": "code",
      "source": [],
      "metadata": {
        "id": "jc2aLSyasTaH"
      },
      "execution_count": null,
      "outputs": []
    },
    {
      "cell_type": "code",
      "source": [
        "hr_shape = (lr_img.shape[0]*4, lr_img.shape[1]*4)\n",
        "model = sisr_model()\n",
        "chunk_size = 1000\n",
        "img = []\n",
        "width, height = lr_img.shape[1] , lr_img.shape[0]\n",
        "for x in range(0, width, chunk_size):\n",
        "  for y in range(0, height, chunk_size):\n",
        "        x_bound = x + chunk_size\n",
        "        y_bound = y + chunk_size\n",
        "        if(x_bound>width):\n",
        "          X_bound = width\n",
        "        if(y_bound>height):\n",
        "          y_bound = height\n",
        "        tmp_shape = (chunk_size*4,chunk_size*4,3)\n",
        "        tmp = np.zeros(tmp_shape)\n",
        "        chunk = lr_img[ y : y_bound , x : x_bound,:]\n",
        "        chunk = np.expand_dims(chunk,axis=-1)\n",
        "        # tmp = model.predict(np.expand_dims(chunk,0))\n",
        "        tmp = np.squeeze(tmp)\n",
        "        img.append(tmp)"
      ],
      "metadata": {
        "id": "Hz8noHOAi8EB"
      },
      "execution_count": null,
      "outputs": []
    },
    {
      "cell_type": "code",
      "source": [
        "from sklearn.model_selection import train_test_split\n",
        "X_train, X_test, y_train, y_test = train_test_split(img, random_state=32, test_size=0.1)"
      ],
      "metadata": {
        "id": "Jua-fSpesYLl"
      },
      "execution_count": null,
      "outputs": []
    },
    {
      "cell_type": "code",
      "source": [],
      "metadata": {
        "id": "dIih65JOq7AE",
        "colab": {
          "base_uri": "https://localhost:8080/"
        },
        "outputId": "f061df11-c547-4c43-c378-38b3ab3d2df7"
      },
      "execution_count": null,
      "outputs": [
        {
          "output_type": "stream",
          "name": "stdout",
          "text": [
            "(159760, 5796, 3)\n"
          ]
        }
      ]
    }
  ]
}